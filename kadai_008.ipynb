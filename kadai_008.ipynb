{
  "nbformat": 4,
  "nbformat_minor": 0,
  "metadata": {
    "colab": {
      "provenance": []
    },
    "kernelspec": {
      "name": "python3",
      "display_name": "Python 3"
    },
    "language_info": {
      "name": "python"
    }
  },
  "cells": [
    {
      "cell_type": "code",
      "execution_count": 13,
      "metadata": {
        "colab": {
          "base_uri": "https://localhost:8080/"
        },
        "id": "vOmh16jPTW7T",
        "outputId": "d3751573-74c5-4ef5-b6d7-732d684bfd24"
      },
      "outputs": [
        {
          "output_type": "stream",
          "name": "stdout",
          "text": [
            "Fizz\n"
          ]
        }
      ],
      "source": [
        "import random\n",
        "\n",
        "var = random.randint(0,100)\n",
        "\n",
        "if (var % 3) ==0 and (var % 5) == 0:\n",
        "  print(\"FizzBuzz\")\n",
        "elif (var % 3) == 0:\n",
        "  print(\"Fizz\")\n",
        "elif (var % 5) == 0:\n",
        "  print(\"Buzz\")\n",
        "else:\n",
        "  print(var)"
      ]
    }
  ]
}
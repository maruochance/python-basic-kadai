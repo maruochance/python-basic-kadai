{
  "nbformat": 4,
  "nbformat_minor": 0,
  "metadata": {
    "colab": {
      "provenance": []
    },
    "kernelspec": {
      "name": "python3",
      "display_name": "Python 3"
    },
    "language_info": {
      "name": "python"
    }
  },
  "cells": [
    {
      "cell_type": "code",
      "execution_count": 8,
      "metadata": {
        "colab": {
          "base_uri": "https://localhost:8080/"
        },
        "id": "T3JMPFb7Tsg9",
        "outputId": "0b4df9ac-ae8d-40f6-806c-376f9b00f8fc"
      },
      "outputs": [
        {
          "output_type": "execute_result",
          "data": {
            "text/plain": [
              "121.0"
            ]
          },
          "metadata": {},
          "execution_count": 8
        }
      ],
      "source": [
        "def add_tax(price, tax):\n",
        "  total = price + (price * (tax/100))\n",
        "  return total\n",
        "\n",
        "add_tax(110, 10)"
      ]
    }
  ]
}
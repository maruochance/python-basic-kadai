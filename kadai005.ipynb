{
  "nbformat": 4,
  "nbformat_minor": 0,
  "metadata": {
    "colab": {
      "provenance": []
    },
    "kernelspec": {
      "name": "python3",
      "display_name": "Python 3"
    },
    "language_info": {
      "name": "python"
    }
  },
  "cells": [
    {
      "cell_type": "code",
      "execution_count": 3,
      "metadata": {
        "colab": {
          "base_uri": "https://localhost:8080/"
        },
        "id": "UVNT0BSokjaf",
        "outputId": "4388781b-366f-4512-9ae1-bf15ab166ae0"
      },
      "outputs": [
        {
          "output_type": "stream",
          "name": "stdout",
          "text": [
            "75.0cm2\n"
          ]
        }
      ],
      "source": [
        "the_top_side = 10\n",
        "the_bottom_side = 20\n",
        "height = 5\n",
        "trapezium = ((the_top_side + the_bottom_side) * height) / 2\n",
        "print(str(trapezium) + \"cm2\")"
      ]
    }
  ]
}